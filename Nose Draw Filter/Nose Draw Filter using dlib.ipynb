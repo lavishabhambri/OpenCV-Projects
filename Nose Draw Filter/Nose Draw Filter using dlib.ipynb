{
 "cells": [
  {
   "cell_type": "code",
   "execution_count": 2,
   "metadata": {},
   "outputs": [
    {
     "name": "stdout",
     "output_type": "stream",
     "text": [
      "Collecting imutils\n",
      "  Downloading imutils-0.5.3.tar.gz (17 kB)\n",
      "Building wheels for collected packages: imutils\n",
      "  Building wheel for imutils (setup.py): started\n",
      "  Building wheel for imutils (setup.py): finished with status 'done'\n",
      "  Created wheel for imutils: filename=imutils-0.5.3-py3-none-any.whl size=25856 sha256=78463c1cceb62722d0d6fbbebed0ae0c06cbdc571d9580ed2e03232e61814b7d\n",
      "  Stored in directory: c:\\users\\dell\\appdata\\local\\pip\\cache\\wheels\\fc\\9c\\6d\\1826267c72afa51b564c9c6e0f66abc806879338bc593a2270\n",
      "Successfully built imutils\n",
      "Installing collected packages: imutils\n",
      "Successfully installed imutils-0.5.3\n",
      "Note: you may need to restart the kernel to use updated packages.\n"
     ]
    }
   ],
   "source": [
    " pip install --upgrade imutils"
   ]
  },
  {
   "cell_type": "code",
   "execution_count": 2,
   "metadata": {},
   "outputs": [
    {
     "name": "stdout",
     "output_type": "stream",
     "text": [
      "Collecting opencv-python\n",
      "  Downloading opencv_python-4.2.0.34-cp36-cp36m-win_amd64.whl (33.0 MB)\n",
      "Requirement already satisfied: numpy>=1.11.3 in c:\\users\\dell\\anaconda3\\envs\\env_lavisha\\lib\\site-packages (from opencv-python) (1.18.5)\n",
      "Installing collected packages: opencv-python\n",
      "Successfully installed opencv-python-4.2.0.34\n",
      "Note: you may need to restart the kernel to use updated packages.\n"
     ]
    }
   ],
   "source": [
    "pip install opencv-python"
   ]
  },
  {
   "cell_type": "code",
   "execution_count": 2,
   "metadata": {
    "scrolled": true
   },
   "outputs": [],
   "source": [
    "import cv2\n",
    "import numpy as np\n",
    "import dlib"
   ]
  },
  {
   "cell_type": "code",
   "execution_count": 3,
   "metadata": {},
   "outputs": [],
   "source": [
    "cap = cv2.VideoCapture(0)\n",
    "\n",
    "detector = dlib.get_frontal_face_detector()\n",
    "predictor = dlib.shape_predictor(r\"C:\\Users\\DELL\\Desktop\\shape_predictor_68_face_landmarks.dat\")\n",
    "\n",
    "while True:\n",
    "    _, frame = cap.read()\n",
    "    \n",
    "    #converting to gray scale frame as it is easier to compute\n",
    "    gray = cv2.cvtColor(frame, cv2.COLOR_BGR2GRAY) \n",
    "    \n",
    "    faces = detector(gray)\n",
    "    for face in faces:\n",
    "        #print(face)  #this line prints the object faces ie the left most and right most point of the face\n",
    "        x1 = face.left() #to get left most point of face\n",
    "        y1 = face.top() #to get top most point of face\n",
    "        x2 = face.right() #to get right most point of face\n",
    "        y2 = face.bottom() #to get bottom most point of face\n",
    "        \n",
    "        #drawing rectangle over the face\n",
    "        #cv2.rectangle(frame, (x1,y1), (x2,y2),(0,255,0),3)\n",
    "        \n",
    "        #to detect the landmark points for a single face\n",
    "        landmarks = predictor(gray, face)\n",
    "        #print(landmarks)  #on ptrinting this line we get to know that landmark is an object\n",
    "        for i in range(0, 68):  #as the range of landmarks is from 0 to 68\n",
    "            x = landmarks.part(i).x\n",
    "            y = landmarks.part(i).y\n",
    "            #print(x, y)  #this prints the coordinate of the point(i,i) ie the i,i pt on the face\n",
    "            cv2.circle(frame, (x,y),3,(255,0,0),-1)\n",
    "        \n",
    "    \n",
    "    \n",
    "    cv2.imshow('Frame',frame)\n",
    "    \n",
    "    key = cv2.waitKey(1)\n",
    "    if key == 27:\n",
    "        break\n",
    "        \n",
    "cap.release()\n",
    "cv2.destroyAllWindows()"
   ]
  },
  {
   "cell_type": "code",
   "execution_count": 9,
   "metadata": {},
   "outputs": [],
   "source": [
    "cap = cv2.VideoCapture(0)\n",
    "\n",
    "img = np.zeros((512,512,3), np.uint8)\n",
    "#cv2.namedWindow('image')\n",
    "\n",
    "detector = dlib.get_frontal_face_detector()\n",
    "predictor = dlib.shape_predictor(r\"C:\\Users\\DELL\\Desktop\\shape_predictor_68_face_landmarks.dat\")\n",
    "\n",
    "while True:\n",
    "    _, frame = cap.read()\n",
    "    \n",
    "    #converting to gray scale frame as it is easier to compute\n",
    "    gray = cv2.cvtColor(frame, cv2.COLOR_BGR2GRAY) \n",
    "    \n",
    "    faces = detector(gray)\n",
    "    for face in faces:\n",
    "        #print(face)  #this line prints the object faces ie the left most and right most point of the face\n",
    "        x1 = face.left() #to get left most point of face\n",
    "        y1 = face.top() #to get top most point of face\n",
    "        x2 = face.right() #to get right most point of face\n",
    "        y2 = face.bottom() #to get bottom most point of face\n",
    "        \n",
    "        #drawing rectangle over the face\n",
    "        #cv2.rectangle(frame, (x1,y1), (x2,y2),(0,255,0),3)\n",
    "        \n",
    "        #to detect the landmark points for a single face\n",
    "        landmarks = predictor(gray, face)\n",
    "        #print(landmarks)  #on ptrinting this line we get to know that landmark is an object\n",
    "        x = landmarks.part(30).x\n",
    "        y = landmarks.part(30).y\n",
    "        #print(x, y)  #this prints the coordinate of the point(30,30) ie the nose point\n",
    "        cv2.circle(frame, (x,y),3,(255,0,0),-1)\n",
    "        cv2.line(img,(x,y), (x+1, y+1),(255,255,0),5)\n",
    "        \n",
    "    \n",
    "    \n",
    "    cv2.imshow('Frame',frame)\n",
    "    cv2.imshow('Image',img)\n",
    "    \n",
    "    key = cv2.waitKey(1)\n",
    "    if key == 27:\n",
    "        break\n",
    "        \n",
    "cap.release()\n",
    "cv2.destroyAllWindows()"
   ]
  }
 ],
 "metadata": {
  "kernelspec": {
   "display_name": "Python 3",
   "language": "python",
   "name": "python3"
  },
  "language_info": {
   "codemirror_mode": {
    "name": "ipython",
    "version": 3
   },
   "file_extension": ".py",
   "mimetype": "text/x-python",
   "name": "python",
   "nbconvert_exporter": "python",
   "pygments_lexer": "ipython3",
   "version": "3.6.10"
  }
 },
 "nbformat": 4,
 "nbformat_minor": 4
}
